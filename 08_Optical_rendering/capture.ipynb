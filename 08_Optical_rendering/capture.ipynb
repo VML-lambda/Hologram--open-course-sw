{
 "cells": [
  {
   "cell_type": "code",
   "execution_count": null,
   "metadata": {},
   "outputs": [],
   "source": [
    "import os\n",
    "import subprocess\n",
    "import time\n",
    "from camera_utils import *\n",
    "\n",
    "# .exe 파일이 있는 폴더 경로와 파일 이름\n",
    "module_folder_path = \"\"\n",
    "exe_folder_path = \"{module_folder_path}\\\\S-SDKZ50-008BF-ALLIN\\Module\\\\Win\\\\Sample Program\\\\Type0025_CtrlSample_Win\\\\win\\\\build\\\\x64\\\\Release\"\n",
    "exe_file_name = \"Type0025Ctrl.exe\"\n",
    "\n",
    "# .exe 파일이 있는 폴더로 작업 디렉토리를 변경\n",
    "os.chdir(exe_folder_path)\n",
    "exe_path = os.path.join(exe_folder_path, exe_file_name)\n"
   ]
  },
  {
   "cell_type": "markdown",
   "metadata": {},
   "source": [
    "# Define functions for camera control\n"
   ]
  },
  {
   "cell_type": "code",
   "execution_count": 9,
   "metadata": {},
   "outputs": [],
   "source": [
    "process = subprocess.Popen([exe_file_name],\n",
    "                           stdin=subprocess.PIPE,\n",
    "                           stdout=subprocess.PIPE,\n",
    "                           stderr=subprocess.PIPE,\n",
    "                           text=True)\n",
    "\n",
    "control = Control(process)\n",
    "control.start_program()\n",
    "control.standby()"
   ]
  },
  {
   "cell_type": "markdown",
   "metadata": {},
   "source": [
    "# Capture several images with same time interval\n"
   ]
  },
  {
   "cell_type": "code",
   "execution_count": 13,
   "metadata": {},
   "outputs": [],
   "source": [
    "\"\"\" Capture images with same time interval \"\"\"\n",
    "num_capture = 2\n",
    "time_interval = 1 # sec\n",
    "\n",
    "# control.capture_and_save()\n",
    "\n",
    "for i in range(num_capture):\n",
    "    control.capture_and_save()\n",
    "    time.sleep(time_interval)"
   ]
  },
  {
   "cell_type": "markdown",
   "metadata": {},
   "source": [
    "# Terminate Camera control"
   ]
  },
  {
   "cell_type": "code",
   "execution_count": 16,
   "metadata": {},
   "outputs": [],
   "source": [
    "\"\"\" Terminate program \"\"\"\n",
    "control.terminate()"
   ]
  }
 ],
 "metadata": {
  "kernelspec": {
   "display_name": "Python 3",
   "language": "python",
   "name": "python3"
  },
  "language_info": {
   "codemirror_mode": {
    "name": "ipython",
    "version": 3
   },
   "file_extension": ".py",
   "mimetype": "text/x-python",
   "name": "python",
   "nbconvert_exporter": "python",
   "pygments_lexer": "ipython3",
   "version": "3.12.7"
  }
 },
 "nbformat": 4,
 "nbformat_minor": 2
}
