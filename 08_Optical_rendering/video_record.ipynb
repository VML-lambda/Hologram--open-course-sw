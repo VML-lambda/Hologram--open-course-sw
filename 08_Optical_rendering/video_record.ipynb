{
 "cells": [
  {
   "cell_type": "code",
   "execution_count": null,
   "metadata": {},
   "outputs": [],
   "source": [
    "import os\n",
    "import subprocess\n",
    "import time\n",
    "from camera_utils import *\n",
    "\n",
    "# .exe 파일이 있는 폴더 경로와 파일 이름\n",
    "module_folder_path = \"\"\n",
    "exe_folder_path = \"{module_folder_path}\\\\S-SDKZ50-008BF-ALLIN\\Module\\\\Win\\\\Sample Program\\\\Type0025_CtrlSample_Win\\\\win\\\\build\\\\x64\\\\Release\"\n",
    "exe_file_name = \"Type0025Ctrl.exe\"\n",
    "\n",
    "# .exe 파일이 있는 폴더로 작업 디렉토리를 변경\n",
    "os.chdir(exe_folder_path)\n",
    "exe_path = os.path.join(exe_folder_path, exe_file_name)\n"
   ]
  },
  {
   "cell_type": "markdown",
   "metadata": {},
   "source": [
    "# Define functions for camera control"
   ]
  },
  {
   "cell_type": "code",
   "execution_count": null,
   "metadata": {},
   "outputs": [],
   "source": [
    "process = subprocess.Popen([exe_file_name],\n",
    "                           stdin=subprocess.PIPE,\n",
    "                           stdout=subprocess.PIPE,\n",
    "                           stderr=subprocess.PIPE,\n",
    "                           text=True)\n",
    "\n",
    "control = Control(process)\n",
    "control.start_program()\n",
    "control.standby()"
   ]
  },
  {
   "cell_type": "markdown",
   "metadata": {},
   "source": [
    "# Recording video for a specific duration"
   ]
  },
  {
   "cell_type": "code",
   "execution_count": null,
   "metadata": {},
   "outputs": [],
   "source": [
    "\"\"\" Video record with interval \"\"\"\n",
    "duration = 3 # sec\n",
    "\n",
    "control.video_capture_start()\n",
    "time.sleep(duration)\n",
    "control.video_capture_stop_and_save()\n"
   ]
  },
  {
   "cell_type": "markdown",
   "metadata": {},
   "source": [
    "# Start Recording video"
   ]
  },
  {
   "cell_type": "code",
   "execution_count": null,
   "metadata": {},
   "outputs": [],
   "source": [
    "\"\"\" Start video record \"\"\"\n",
    "control.video_capture_start()"
   ]
  },
  {
   "cell_type": "markdown",
   "metadata": {},
   "source": [
    "# Stop Recording video"
   ]
  },
  {
   "cell_type": "code",
   "execution_count": null,
   "metadata": {},
   "outputs": [],
   "source": [
    "\"\"\" Stop video record\"\"\"\n",
    "control.video_capture_stop_and_save()"
   ]
  },
  {
   "cell_type": "markdown",
   "metadata": {},
   "source": [
    "# Terminate Camera control"
   ]
  },
  {
   "cell_type": "code",
   "execution_count": null,
   "metadata": {},
   "outputs": [],
   "source": [
    "\"\"\" Terminate program \"\"\"\n",
    "control.stop_program()"
   ]
  }
 ],
 "metadata": {
  "language_info": {
   "name": "python"
  }
 },
 "nbformat": 4,
 "nbformat_minor": 2
}
