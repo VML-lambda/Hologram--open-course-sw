{
 "cells": [
  {
   "cell_type": "code",
   "execution_count": null,
   "metadata": {},
   "outputs": [],
   "source": [
    "# enable cuda devices\n",
    "import os\n",
    "os.environ[\"CUDA_DEVICE_ORDER\"]=\"PCI_BUS_ID\"\n",
    "os.environ[\"CUDA_VISIBLE_DEVICES\"]=\"2\"\n",
    "\n",
    "import cv2\n",
    "import numpy as np\n",
    "import matplotlib.pyplot as plt\n",
    "from imageio.v2 import imread\n",
    "\n",
    "from utils import nef_to_png, rotate_image\n",
    "\n",
    "\n",
    "input_folder = \"./\"\n",
    "save_folder = \"./\"\n",
    "target_image = \"Image064\"\n",
    "\n",
    "ndf_path = f\"{input_folder}/{target_image}.nef\"\n",
    "png_path = f\"{input_folder}/{target_image}.png\"\n",
    "save_path = f\"{save_folder}/{target_image}_post.png\"\n"
   ]
  },
  {
   "cell_type": "markdown",
   "metadata": {},
   "source": [
    "## NEF to PNG\n"
   ]
  },
  {
   "cell_type": "code",
   "execution_count": 17,
   "metadata": {},
   "outputs": [],
   "source": [
    "nef_to_png(ndf_path, png_path)"
   ]
  },
  {
   "cell_type": "markdown",
   "metadata": {},
   "source": [
    "## Rotation\n"
   ]
  },
  {
   "cell_type": "code",
   "execution_count": 2,
   "metadata": {},
   "outputs": [],
   "source": [
    "rotated_image = rotate_image(png_path, angle=176.3, keep_size=True)"
   ]
  },
  {
   "cell_type": "markdown",
   "metadata": {},
   "source": [
    "## Remove noise\n"
   ]
  },
  {
   "cell_type": "code",
   "execution_count": null,
   "metadata": {},
   "outputs": [],
   "source": [
    "def remove_noise(image_path, noise_image_path):\n",
    "    image = cv2.imread(image_path, cv2.IMREAD_GRAYSCALE)\n",
    "    noise_image = cv2.imread(noise_image_path, cv2.IMREAD_GRAYSCALE)\n",
    "\n",
    "    if image.shape != noise_image.shape:\n",
    "        raise ValueError(\"Image and noise image must have the same dimensions.\")\n",
    "\n",
    "    noise_image = (noise_image * 1.3)\n",
    "    clean_image = (image-noise_image)\n",
    "    clean_image = ((clean_image - np.min(clean_image)) / (np.max(clean_image)-np.min(clean_image)) * 255).astype(np.uint8)\n",
    "    \n",
    "    return clean_image"
   ]
  }
 ],
 "metadata": {
  "kernelspec": {
   "display_name": "seungmi",
   "language": "python",
   "name": "python3"
  },
  "language_info": {
   "codemirror_mode": {
    "name": "ipython",
    "version": 3
   },
   "file_extension": ".py",
   "mimetype": "text/x-python",
   "name": "python",
   "nbconvert_exporter": "python",
   "pygments_lexer": "ipython3",
   "version": "3.10.15"
  }
 },
 "nbformat": 4,
 "nbformat_minor": 2
}
