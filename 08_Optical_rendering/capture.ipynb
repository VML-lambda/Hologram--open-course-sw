{
 "cells": [
  {
   "cell_type": "code",
   "execution_count": null,
   "metadata": {},
   "outputs": [],
   "source": [
    "import os\n",
    "import subprocess\n",
    "from camera_utils import *\n",
    "import threading\n",
    "import time\n",
    "\n",
    "# .exe 파일이 있는 폴더 경로와 파일 이름\n",
    "module_folder_path = \"\"\n",
    "exe_folder_path = \"{module_folder_path}\\\\S-SDKZ50-008BF-ALLIN\\Module\\\\Win\\\\Sample Program\\\\Type0025_CtrlSample_Win\\\\win\\\\build\\\\x64\\\\Release\"\n",
    "exe_file_name = \"Type0025Ctrl.exe\"\n",
    "\n",
    "# .exe 파일이 있는 폴더로 작업 디렉토리를 변경\n",
    "os.chdir(exe_folder_path)\n",
    "exe_path = os.path.join(exe_folder_path, exe_file_name)\n"
   ]
  },
  {
   "cell_type": "markdown",
   "metadata": {},
   "source": [
    "# Define functions for controling camera\n"
   ]
  },
  {
   "cell_type": "code",
   "execution_count": 9,
   "metadata": {},
   "outputs": [],
   "source": [
    "process = subprocess.Popen([exe_file_name],\n",
    "                           stdin=subprocess.PIPE,\n",
    "                           stdout=subprocess.PIPE,\n",
    "                           stderr=subprocess.PIPE,\n",
    "                           text=True)\n",
    "\n",
    "control = Control(process)\n",
    "control.start_program()\n",
    "control.standby()"
   ]
  },
  {
   "cell_type": "markdown",
   "metadata": {},
   "source": [
    "# Capture several images with same time interval\n"
   ]
  },
  {
   "cell_type": "code",
   "execution_count": 13,
   "metadata": {},
   "outputs": [],
   "source": [
    "import subprocess\n",
    "import threading\n",
    "import time\n",
    "\n",
    "process = subprocess.Popen([exe_file_name],\n",
    "                           stdin=subprocess.PIPE,\n",
    "                           stdout=subprocess.PIPE,\n",
    "                           stderr=subprocess.PIPE,\n",
    "                           text=True)\n",
    "\n",
    "# 출력을 실시간으로 읽어오는 스레드 종료 플래그\n",
    "stop_thread = False\n",
    "# 출력을 읽는 스레드를 생성하여 실행\n",
    "output_thread = threading.Thread(target=read_output)\n",
    "output_thread.start()\n",
    "\n",
    "standby()\n"
   ]
  },
  {
   "cell_type": "code",
   "execution_count": 16,
   "metadata": {},
   "outputs": [],
   "source": [
    "\"\"\" Capture images with same time interval \"\"\"\n",
    "num_capture = 5\n",
    "time_interval = 2 # sec\n",
    "\n",
    "for i in range(num_capture):\n",
    "    capture()\n",
    "    transfer_to_computer()\n",
    "    time.sleep(time_interval)\n",
    "time.sleep(2)"
   ]
  },
  {
   "cell_type": "code",
   "execution_count": null,
   "metadata": {},
   "outputs": [],
   "source": [
    "\"\"\" Capture image\"\"\"\n",
    "capture()\n",
    "transfer_to_computer()\n",
    "time.sleep(2)"
   ]
  },
  {
   "cell_type": "code",
   "execution_count": 17,
   "metadata": {},
   "outputs": [
    {
     "name": "stdout",
     "output_type": "stream",
     "text": [
      "Program terminated.\n"
     ]
    }
   ],
   "source": [
    "\"\"\" Terminate program \"\"\"\n",
    "stop_program()"
   ]
  }
 ],
 "metadata": {
  "kernelspec": {
   "display_name": "Python 3",
   "language": "python",
   "name": "python3"
  },
  "language_info": {
   "codemirror_mode": {
    "name": "ipython",
    "version": 3
   },
   "file_extension": ".py",
   "mimetype": "text/x-python",
   "name": "python",
   "nbconvert_exporter": "python",
   "pygments_lexer": "ipython3",
   "version": "3.12.7"
  }
 },
 "nbformat": 4,
 "nbformat_minor": 2
}
