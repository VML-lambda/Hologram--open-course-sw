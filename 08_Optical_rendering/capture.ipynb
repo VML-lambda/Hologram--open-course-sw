{
 "cells": [
  {
   "cell_type": "code",
   "execution_count": 8,
   "metadata": {},
   "outputs": [
    {
     "name": "stderr",
     "output_type": "stream",
     "text": [
      "<>:7: SyntaxWarning: invalid escape sequence '\\M'\n",
      "<>:7: SyntaxWarning: invalid escape sequence '\\M'\n",
      "C:\\Users\\Seungmi\\AppData\\Local\\Temp\\ipykernel_22516\\3869949224.py:7: SyntaxWarning: invalid escape sequence '\\M'\n",
      "  exe_folder_path = \"C:\\\\Users\\\\Seungmi\\\\Desktop\\\\May\\\\S-SDKZ50-008BF-ALLIN\\Module\\\\Win\\\\Sample Program\\\\Type0025_CtrlSample_Win\\\\win\\\\build\\\\x64\\\\Release\"\n"
     ]
    }
   ],
   "source": [
    "import os\n",
    "import subprocess\n",
    "import threading\n",
    "import time\n",
    "\n",
    "# .exe 파일이 있는 폴더 경로와 파일 이름\n",
    "exe_folder_path = \"C:\\\\Users\\\\Seungmi\\\\Desktop\\\\May\\\\S-SDKZ50-008BF-ALLIN\\Module\\\\Win\\\\Sample Program\\\\Type0025_CtrlSample_Win\\\\win\\\\build\\\\x64\\\\Release\"\n",
    "exe_file_name = \"Type0025Ctrl.exe\"\n",
    "\n",
    "# .exe 파일이 있는 폴더로 작업 디렉토리를 변경\n",
    "os.chdir(exe_folder_path)\n",
    "exe_path = os.path.join(exe_folder_path, exe_file_name)\n"
   ]
  },
  {
   "cell_type": "markdown",
   "metadata": {},
   "source": [
    "# Define functions for controling camera"
   ]
  },
  {
   "cell_type": "code",
   "execution_count": 9,
   "metadata": {},
   "outputs": [],
   "source": [
    "\"\"\"  Define functions for program control \"\"\"        \n",
    "# 프로그램 출력을 실시간으로 읽어와 셀에 직접 출력하는 함수\n",
    "def read_output():\n",
    "    while not stop_thread:\n",
    "        output = process.stdout.readline()\n",
    "        if output:\n",
    "            print(output.strip())  # 프로그램의 출력을 실시간으로 셀에 표시\n",
    "        elif process.poll() is not None:  # 프로세스가 종료된 경우\n",
    "            break\n",
    "        \n",
    "# 사용자 입력을 프로그램에 전달하는 함수\n",
    "def send_input(user_input):\n",
    "    if process.poll() is None:  # 프로그램이 실행 중인지 확인\n",
    "        process.stdin.write(user_input + \"\\n\")\n",
    "        process.stdin.flush()  # 입력을 강제로 전달\n",
    "        # print(\"Sent input:\", user_input)  # 전송된 입력을 셀에 표시\n",
    "    else:\n",
    "        print(\"Program terminated.\")\n",
    "        \n",
    "\n",
    "# 프로그램 종료 함수\n",
    "def stop_program():\n",
    "    global stop_thread\n",
    "    if process.poll() is None:  # 프로그램이 실행 중이면 종료\n",
    "        process.terminate()\n",
    "        stop_thread = True  # 스레드를 종료하도록 플래그 설정\n",
    "        output_thread.join()  # 스레드가 종료될 때까지 기다림\n",
    "        print(\"Program terminated.\")\n",
    "\n",
    "def standby():\n",
    "    # conect camera\n",
    "    send_input(\"1\")\n",
    "    send_input(\"1\")\n",
    "    # save setting\n",
    "    send_input(\"2\")\n",
    "    send_input(\"20\")\n",
    "    send_input(\"2\") # CARD and SDRAM\n",
    "    send_input(\"0\") \n",
    "    # time.sleep(3)\n",
    "\n",
    "def capture():\n",
    "    send_input(\"10\")\n",
    "\n",
    "def capture_and_save():\n",
    "    send_input(\"10\")\n",
    "\n",
    "def transfer_to_computer():\n",
    "    send_input(\"1\")\n",
    "    send_input(\"1\")\n",
    "    send_input(\"1\")\n",
    "    send_input(\"1\")\n",
    "    send_input(\"6\")\n",
    "\n",
    "def terminate():\n",
    "    if process.poll() is None:  # 프로그램이 실행 중이면 종료\n",
    "        send_input(\"0\")\n",
    "        send_input(\"0\")"
   ]
  },
  {
   "cell_type": "markdown",
   "metadata": {},
   "source": [
    "# Capture several images with same time interval"
   ]
  },
  {
   "cell_type": "code",
   "execution_count": 13,
   "metadata": {},
   "outputs": [],
   "source": [
    "import subprocess\n",
    "import threading\n",
    "import time\n",
    "\n",
    "process = subprocess.Popen([exe_file_name],\n",
    "                           stdin=subprocess.PIPE,\n",
    "                           stdout=subprocess.PIPE,\n",
    "                           stderr=subprocess.PIPE,\n",
    "                           text=True)\n",
    "\n",
    "# 출력을 실시간으로 읽어오는 스레드 종료 플래그\n",
    "stop_thread = False\n",
    "# 출력을 읽는 스레드를 생성하여 실행\n",
    "output_thread = threading.Thread(target=read_output)\n",
    "output_thread.start()\n",
    "\n",
    "standby()\n"
   ]
  },
  {
   "cell_type": "code",
   "execution_count": 16,
   "metadata": {},
   "outputs": [],
   "source": [
    "\"\"\" Capture images with same time interval \"\"\"\n",
    "num_capture = 5\n",
    "time_interval = 2 # sec\n",
    "\n",
    "for i in range(num_capture):\n",
    "    capture()\n",
    "    transfer_to_computer()\n",
    "    time.sleep(time_interval)\n",
    "time.sleep(3)"
   ]
  },
  {
   "cell_type": "code",
   "execution_count": 17,
   "metadata": {},
   "outputs": [
    {
     "name": "stdout",
     "output_type": "stream",
     "text": [
      "Program terminated.\n"
     ]
    }
   ],
   "source": [
    "\"\"\" Terminate program \"\"\"\n",
    "stop_program()"
   ]
  },
  {
   "cell_type": "markdown",
   "metadata": {},
   "source": [
    "# Copy to computer"
   ]
  },
  {
   "cell_type": "code",
   "execution_count": null,
   "metadata": {},
   "outputs": [],
   "source": []
  }
 ],
 "metadata": {
  "kernelspec": {
   "display_name": "Python 3",
   "language": "python",
   "name": "python3"
  },
  "language_info": {
   "codemirror_mode": {
    "name": "ipython",
    "version": 3
   },
   "file_extension": ".py",
   "mimetype": "text/x-python",
   "name": "python",
   "nbconvert_exporter": "python",
   "pygments_lexer": "ipython3",
   "version": "3.12.7"
  }
 },
 "nbformat": 4,
 "nbformat_minor": 2
}
